{
 "cells": [
  {
   "cell_type": "code",
   "execution_count": 4,
   "metadata": {},
   "outputs": [],
   "source": [
    "import numpy as np\n",
    "import requests\n",
    "import pandas as pd\n",
    "import os\n",
    "from io import StringIO\n",
    "from pandas import *\n",
    "import socket\n",
    "from openpyxl import Workbook, load_workbook\n",
    "import datetime as dt\n",
    "from datetime import date\n"
   ]
  },
  {
   "cell_type": "code",
   "execution_count": 5,
   "metadata": {},
   "outputs": [],
   "source": [
    "os.chdir(r'C:\\Users\\u0766647\\Box\\NIH SINCERE Study\\ServicePoint Data\\Meaningful Contact\\EG')"
   ]
  },
  {
   "cell_type": "code",
   "execution_count": 6,
   "metadata": {},
   "outputs": [],
   "source": [
    "def report_download (token, report_id):\n",
    "    data = {\n",
    "        'token': 'FD34231CD69B4FDE6BF084DD97DD05B2',\n",
    "        'content': 'report',\n",
    "        'format': 'csv',\n",
    "        'report_id': '30562',\n",
    "        'csvDelimiter': '',\n",
    "        'rawOrLabel': 'raw',\n",
    "        'rawOrLabelHeaders': 'raw',\n",
    "        'exportCheckboxLabel': 'false',\n",
    "        'returnFormat': 'json'\n",
    "    }\n",
    "    r = requests.post('https://redcap01.brisc.utah.edu/ccts/redcap/api/',data=data)\n",
    "    redcap = pd.read_csv(StringIO(r.text), sep =\",\")\n",
    "    return(redcap)\n",
    "\n"
   ]
  },
  {
   "cell_type": "code",
   "execution_count": 7,
   "metadata": {},
   "outputs": [
    {
     "name": "stdout",
     "output_type": "stream",
     "text": [
      "This is how many agreed to participate: 302\n"
     ]
    }
   ],
   "source": [
    "df_red = report_download('TOKEN_HERE', '30562')\n",
    "\n",
    "counts_red = df_red['redcap_event_name'].value_counts()\n",
    "\n",
    "participate = (counts_red['baseline_arm_1'])\n",
    "print(\"This is how many agreed to participate: \" + str(participate))\n",
    "\n",
    "\n"
   ]
  },
  {
   "cell_type": "code",
   "execution_count": 8,
   "metadata": {},
   "outputs": [],
   "source": [
    "def second_report (report_id):\n",
    "    data = {\n",
    "        'token': 'FD34231CD69B4FDE6BF084DD97DD05B2',\n",
    "        'content': 'report',\n",
    "        'format': 'csv',\n",
    "        'report_id': report_id,\n",
    "        'csvDelimiter': '',\n",
    "        'rawOrLabel': 'raw',\n",
    "        'rawOrLabelHeaders': 'raw',\n",
    "        'exportCheckboxLabel': 'false',\n",
    "        'returnFormat': 'json'\n",
    "    }\n",
    "    r = requests.post('https://redcap01.brisc.utah.edu/ccts/redcap/api/',data=data)\n",
    "    #print('HTTP Status: ' + str(r.status_code))\n",
    "    #print(r.text)\n",
    "    redcap2 = pd.read_csv(StringIO(r.text), sep =\",\")\n",
    "    return(redcap2)"
   ]
  },
  {
   "cell_type": "code",
   "execution_count": 9,
   "metadata": {},
   "outputs": [
    {
     "name": "stdout",
     "output_type": "stream",
     "text": [
      "This is how many want 211 to contact them: 2024\n"
     ]
    },
    {
     "data": {
      "text/html": [
       "<div>\n",
       "<style scoped>\n",
       "    .dataframe tbody tr th:only-of-type {\n",
       "        vertical-align: middle;\n",
       "    }\n",
       "\n",
       "    .dataframe tbody tr th {\n",
       "        vertical-align: top;\n",
       "    }\n",
       "\n",
       "    .dataframe thead th {\n",
       "        text-align: right;\n",
       "    }\n",
       "</style>\n",
       "<table border=\"1\" class=\"dataframe\">\n",
       "  <thead>\n",
       "    <tr style=\"text-align: right;\">\n",
       "      <th></th>\n",
       "      <th>record_id</th>\n",
       "      <th>redcap_event_name</th>\n",
       "      <th>site</th>\n",
       "      <th>language_start</th>\n",
       "      <th>group</th>\n",
       "      <th>pt_ts</th>\n",
       "      <th>sq01</th>\n",
       "      <th>sq02</th>\n",
       "      <th>sq03</th>\n",
       "      <th>sq04</th>\n",
       "      <th>...</th>\n",
       "      <th>flag_first_contact</th>\n",
       "      <th>unified_screener_complete</th>\n",
       "      <th>ts_end</th>\n",
       "      <th>unified_contact_info_complete</th>\n",
       "      <th>send_surveys</th>\n",
       "      <th>id_211</th>\n",
       "      <th>zip</th>\n",
       "      <th>phone_1</th>\n",
       "      <th>email</th>\n",
       "      <th>phone_surveys</th>\n",
       "    </tr>\n",
       "  </thead>\n",
       "  <tbody>\n",
       "    <tr>\n",
       "      <th>0</th>\n",
       "      <td>99924</td>\n",
       "      <td>screener_arm_1</td>\n",
       "      <td>2</td>\n",
       "      <td>2</td>\n",
       "      <td>2</td>\n",
       "      <td>2023-01-16 16:24:58</td>\n",
       "      <td>0.0</td>\n",
       "      <td>1.0</td>\n",
       "      <td>0.0</td>\n",
       "      <td>0.0</td>\n",
       "      <td>...</td>\n",
       "      <td>1.0</td>\n",
       "      <td>2</td>\n",
       "      <td>2023-01-16 16:30:10</td>\n",
       "      <td>2</td>\n",
       "      <td>NaN</td>\n",
       "      <td>NaN</td>\n",
       "      <td>84119</td>\n",
       "      <td>(786) 277-8640</td>\n",
       "      <td></td>\n",
       "      <td>NaN</td>\n",
       "    </tr>\n",
       "    <tr>\n",
       "      <th>1</th>\n",
       "      <td>99903</td>\n",
       "      <td>screener_arm_1</td>\n",
       "      <td>2</td>\n",
       "      <td>1</td>\n",
       "      <td>1</td>\n",
       "      <td>2023-01-16 10:06:37</td>\n",
       "      <td>0.0</td>\n",
       "      <td>0.0</td>\n",
       "      <td>0.0</td>\n",
       "      <td>0.0</td>\n",
       "      <td>...</td>\n",
       "      <td>1.0</td>\n",
       "      <td>2</td>\n",
       "      <td>2023-01-16 10:20:38</td>\n",
       "      <td>2</td>\n",
       "      <td>NaN</td>\n",
       "      <td>NaN</td>\n",
       "      <td>84107</td>\n",
       "      <td>(716) 482-6319</td>\n",
       "      <td></td>\n",
       "      <td>NaN</td>\n",
       "    </tr>\n",
       "    <tr>\n",
       "      <th>2</th>\n",
       "      <td>99907</td>\n",
       "      <td>screener_arm_1</td>\n",
       "      <td>3</td>\n",
       "      <td>1</td>\n",
       "      <td>2</td>\n",
       "      <td>2023-01-14 00:00:00</td>\n",
       "      <td>0.0</td>\n",
       "      <td>0.0</td>\n",
       "      <td>1.0</td>\n",
       "      <td>1.0</td>\n",
       "      <td>...</td>\n",
       "      <td>NaN</td>\n",
       "      <td>2</td>\n",
       "      <td>NaN</td>\n",
       "      <td>2</td>\n",
       "      <td>NaN</td>\n",
       "      <td>NaN</td>\n",
       "      <td>NaN</td>\n",
       "      <td>801-856-6444</td>\n",
       "      <td>cheriecl@hotmail.com</td>\n",
       "      <td>NaN</td>\n",
       "    </tr>\n",
       "    <tr>\n",
       "      <th>3</th>\n",
       "      <td>99911</td>\n",
       "      <td>screener_arm_1</td>\n",
       "      <td>3</td>\n",
       "      <td>1</td>\n",
       "      <td>3</td>\n",
       "      <td>2023-01-13 00:00:00</td>\n",
       "      <td>0.0</td>\n",
       "      <td>0.0</td>\n",
       "      <td>0.0</td>\n",
       "      <td>1.0</td>\n",
       "      <td>...</td>\n",
       "      <td>NaN</td>\n",
       "      <td>2</td>\n",
       "      <td>NaN</td>\n",
       "      <td>2</td>\n",
       "      <td>NaN</td>\n",
       "      <td>NaN</td>\n",
       "      <td>NaN</td>\n",
       "      <td>435-571-1440</td>\n",
       "      <td>iapetus84032@yahoo.com</td>\n",
       "      <td>NaN</td>\n",
       "    </tr>\n",
       "    <tr>\n",
       "      <th>4</th>\n",
       "      <td>99859</td>\n",
       "      <td>screener_arm_1</td>\n",
       "      <td>3</td>\n",
       "      <td>1</td>\n",
       "      <td>1</td>\n",
       "      <td>2023-01-05 00:00:00</td>\n",
       "      <td>0.0</td>\n",
       "      <td>0.0</td>\n",
       "      <td>0.0</td>\n",
       "      <td>1.0</td>\n",
       "      <td>...</td>\n",
       "      <td>NaN</td>\n",
       "      <td>2</td>\n",
       "      <td>NaN</td>\n",
       "      <td>2</td>\n",
       "      <td>NaN</td>\n",
       "      <td>99859</td>\n",
       "      <td>NaN</td>\n",
       "      <td>801-703-4747</td>\n",
       "      <td>sclibra13@gmail.com</td>\n",
       "      <td>NaN</td>\n",
       "    </tr>\n",
       "  </tbody>\n",
       "</table>\n",
       "<p>5 rows × 27 columns</p>\n",
       "</div>"
      ],
      "text/plain": [
       "  record_id redcap_event_name  site  language_start  group  \\\n",
       "0     99924    screener_arm_1     2               2      2   \n",
       "1     99903    screener_arm_1     2               1      1   \n",
       "2     99907    screener_arm_1     3               1      2   \n",
       "3     99911    screener_arm_1     3               1      3   \n",
       "4     99859    screener_arm_1     3               1      1   \n",
       "\n",
       "                 pt_ts  sq01  sq02  sq03  sq04  ...  flag_first_contact  \\\n",
       "0  2023-01-16 16:24:58   0.0   1.0   0.0   0.0  ...                 1.0   \n",
       "1  2023-01-16 10:06:37   0.0   0.0   0.0   0.0  ...                 1.0   \n",
       "2  2023-01-14 00:00:00   0.0   0.0   1.0   1.0  ...                 NaN   \n",
       "3  2023-01-13 00:00:00   0.0   0.0   0.0   1.0  ...                 NaN   \n",
       "4  2023-01-05 00:00:00   0.0   0.0   0.0   1.0  ...                 NaN   \n",
       "\n",
       "   unified_screener_complete               ts_end  \\\n",
       "0                          2  2023-01-16 16:30:10   \n",
       "1                          2  2023-01-16 10:20:38   \n",
       "2                          2                  NaN   \n",
       "3                          2                  NaN   \n",
       "4                          2                  NaN   \n",
       "\n",
       "   unified_contact_info_complete  send_surveys  id_211     zip  \\\n",
       "0                              2           NaN     NaN   84119   \n",
       "1                              2           NaN     NaN  84107    \n",
       "2                              2           NaN     NaN     NaN   \n",
       "3                              2           NaN     NaN     NaN   \n",
       "4                              2           NaN   99859     NaN   \n",
       "\n",
       "            phone_1                   email phone_surveys  \n",
       "0   (786) 277-8640                                    NaN  \n",
       "1  (716) 482-6319                                     NaN  \n",
       "2      801-856-6444    cheriecl@hotmail.com           NaN  \n",
       "3      435-571-1440  iapetus84032@yahoo.com           NaN  \n",
       "4      801-703-4747     sclibra13@gmail.com           NaN  \n",
       "\n",
       "[5 rows x 27 columns]"
      ]
     },
     "execution_count": 9,
     "metadata": {},
     "output_type": "execute_result"
    }
   ],
   "source": [
    "df_two = second_report('32346')\n",
    "\n",
    "counts_two = df_two['redcap_event_name'].value_counts()\n",
    "\n",
    "total = (counts_two['screener_arm_1'])\n",
    "print(\"This is how many want 211 to contact them: \" + str(total))\n",
    "\n",
    "\n",
    "\n",
    "df_two.head()\n",
    "\n"
   ]
  },
  {
   "cell_type": "code",
   "execution_count": null,
   "metadata": {},
   "outputs": [],
   "source": []
  },
  {
   "cell_type": "code",
   "execution_count": 10,
   "metadata": {},
   "outputs": [
    {
     "name": "stdout",
     "output_type": "stream",
     "text": [
      "     record_id redcap_event_name  site  language_start  group  \\\n",
      "0        99924    screener_arm_1     2               2      2   \n",
      "1        99903    screener_arm_1     2               1      1   \n",
      "2        99907    screener_arm_1     3               1      2   \n",
      "3        99911    screener_arm_1     3               1      3   \n",
      "4        99859    screener_arm_1     3               1      1   \n",
      "...        ...               ...   ...             ...    ...   \n",
      "2019        47    screener_arm_1     2               1      2   \n",
      "2020        34    screener_arm_1     2               2      3   \n",
      "2021        25    screener_arm_1     2               2      2   \n",
      "2022     24- P    screener_arm_1     2               2      1   \n",
      "2023        16    screener_arm_1     2               1      1   \n",
      "\n",
      "                    pt_ts  sq01  sq02  sq03  sq04  ...               ts_end  \\\n",
      "0     2023-01-16 16:24:58   0.0   1.0   0.0   0.0  ...  2023-01-16 16:30:10   \n",
      "1     2023-01-16 10:06:37   0.0   0.0   0.0   0.0  ...  2023-01-16 10:20:38   \n",
      "2     2023-01-14 00:00:00   0.0   0.0   1.0   1.0  ...                  NaN   \n",
      "3     2023-01-13 00:00:00   0.0   0.0   0.0   1.0  ...                  NaN   \n",
      "4     2023-01-05 00:00:00   0.0   0.0   0.0   1.0  ...                  NaN   \n",
      "...                   ...   ...   ...   ...   ...  ...                  ...   \n",
      "2019  2021-09-27 23:36:14   0.0   0.0   0.0   0.0  ...  2021-09-27 23:44:23   \n",
      "2020  2021-09-27 18:46:23   0.0   0.0   0.0   0.0  ...  2021-09-27 18:55:30   \n",
      "2021  2021-09-27 17:11:15   0.0   0.0   0.0   0.0  ...  2021-09-27 17:18:45   \n",
      "2022  2021-09-27 16:48:04   0.0   0.0   0.0 -99.0  ...  2021-09-27 17:01:23   \n",
      "2023  2021-09-27 15:10:47   0.0   1.0   1.0   1.0  ...  2021-09-27 15:34:59   \n",
      "\n",
      "      unified_contact_info_complete  send_surveys       id_211     zip  \\\n",
      "0                                 2           NaN          NaN   84119   \n",
      "1                                 2           NaN          NaN  84107    \n",
      "2                                 2           NaN          NaN     NaN   \n",
      "3                                 2           NaN          NaN     NaN   \n",
      "4                                 2           NaN        99859     NaN   \n",
      "...                             ...           ...          ...     ...   \n",
      "2019                              2           NaN           47  84003    \n",
      "2020                              2           1.0           34   84120   \n",
      "2021                              2           1.0           25   84047   \n",
      "2022                              2           1.0  24- Primary   84096   \n",
      "2023                              2           NaN           16  84120    \n",
      "\n",
      "               phone_1                    email   phone_surveys  \\\n",
      "0      (786) 277-8640                                       NaN   \n",
      "1     (716) 482-6319                                        NaN   \n",
      "2         801-856-6444     cheriecl@hotmail.com             NaN   \n",
      "3         435-571-1440   iapetus84032@yahoo.com             NaN   \n",
      "4         801-703-4747      sclibra13@gmail.com             NaN   \n",
      "...                ...                      ...             ...   \n",
      "2019                    Sfaulkner09@gmail.com               NaN   \n",
      "2020   (801) 502-0743                            (801) 502-0743   \n",
      "2021   (971) 715-8350                            (971) 715-8350   \n",
      "2022   (801) 603-2421                            (801) 603-2421   \n",
      "2023  (801) 928-1804      akmccoard@gmail.com               NaN   \n",
      "\n",
      "               Time_test month_test  \n",
      "0    2023-01-16 16:24:58          1  \n",
      "1    2023-01-16 10:06:37          1  \n",
      "2    2023-01-14 00:00:00          1  \n",
      "3    2023-01-13 00:00:00          1  \n",
      "4    2023-01-05 00:00:00          1  \n",
      "...                  ...        ...  \n",
      "2019 2021-09-27 23:36:14          9  \n",
      "2020 2021-09-27 18:46:23          9  \n",
      "2021 2021-09-27 17:11:15          9  \n",
      "2022 2021-09-27 16:48:04          9  \n",
      "2023 2021-09-27 15:10:47          9  \n",
      "\n",
      "[2024 rows x 29 columns]\n",
      "            site  language_start  group   sq01   sq02   sq03   sq04   sq05  \\\n",
      "Time_test                                                                    \n",
      "2021-09-30    54              30     48    3.0   10.0    9.0  -91.0  -91.0   \n",
      "2021-10-31   315             210    321 -271.0  -36.0 -155.0 -343.0 -618.0   \n",
      "2021-11-30   440             307    493 -354.0 -190.0 -519.0 -375.0 -254.0   \n",
      "2021-12-31   225             161    249 -173.0 -344.0 -166.0 -642.0 -624.0   \n",
      "2022-01-31   289             171    280 -268.0 -241.0 -350.0 -618.0 -319.0   \n",
      "2022-02-28   246             176    267  -79.0 -252.0   29.0 -444.0 -233.0   \n",
      "2022-03-31   251             174    280   18.0   50.0   41.0 -142.0 -133.0   \n",
      "2022-04-30   276             181    274 -469.0 -546.0 -263.0 -441.0 -628.0   \n",
      "2022-05-31   144              93    146  -86.0  -74.0   17.0 -170.0 -164.0   \n",
      "2022-06-30   258             190    294 -262.0   63.0  -54.0 -324.0 -219.0   \n",
      "2022-07-31   249             186    288  -72.0   52.0  -58.0  -29.0 -216.0   \n",
      "2022-08-31   103              69    102  -91.0  -73.0 -179.0 -275.0  -71.0   \n",
      "2022-09-30   278             174    249  -77.0 -251.0 -365.0 -537.0 -528.0   \n",
      "2022-10-31   324             180    254  -76.0  -54.0   32.0 -443.0 -633.0   \n",
      "2022-11-30   395             251    360   32.0 -430.0 -147.0 -406.0 -400.0   \n",
      "2022-12-31   138              82    123    9.0   17.0  -84.0   28.0 -266.0   \n",
      "2023-01-31    13               6      9    0.0    1.0    1.0    3.0    3.0   \n",
      "\n",
      "             sq06   sq07   sq08   sq09   sq10  referred211  \\\n",
      "Time_test                                                    \n",
      "2021-09-30   12.0   14.0    1.0    8.0    7.0           24   \n",
      "2021-10-31 -315.0 -709.0   15.0 -245.0 -246.0          162   \n",
      "2021-11-30 -674.0 -573.0 -557.0 -808.0 -630.0          246   \n",
      "2021-12-31 -535.0 -541.0  -75.0 -446.0 -463.0          127   \n",
      "2022-01-31 -709.0 -513.0 -180.0 -445.0 -363.0          140   \n",
      "2022-02-28 -430.0 -331.0   12.0 -558.0  -66.0          133   \n",
      "2022-03-31 -228.0 -424.0   18.0 -162.0 -263.0          139   \n",
      "2022-04-30 -726.0 -428.0 -282.0 -255.0 -161.0          137   \n",
      "2022-05-31  -66.0  -69.0    3.0   23.0   20.0           73   \n",
      "2022-06-30 -318.0 -423.0 -179.0 -243.0  -59.0          147   \n",
      "2022-07-31 -332.0 -233.0 -183.0 -355.0 -256.0          144   \n",
      "2022-08-31  -72.0  -78.0  -93.0 -280.0 -182.0           52   \n",
      "2022-09-30 -633.0 -433.0 -185.0 -256.0  -59.0          125   \n",
      "2022-10-31 -340.0 -536.0    7.0 -160.0  -60.0          128   \n",
      "2022-11-30 -611.0 -610.0 -380.0 -432.0 -138.0          180   \n",
      "2022-12-31  -59.0 -163.0    2.0 -186.0  -84.0           62   \n",
      "2023-01-31    4.0    4.0    1.0    2.0    0.0            5   \n",
      "\n",
      "            flag_first_contact  unified_screener_complete  \\\n",
      "Time_test                                                   \n",
      "2021-09-30                 0.0                         48   \n",
      "2021-10-31                 0.0                        324   \n",
      "2021-11-30                 0.0                        492   \n",
      "2021-12-31                 0.0                        254   \n",
      "2022-01-31                 0.0                        280   \n",
      "2022-02-28                 0.0                        266   \n",
      "2022-03-31                 0.0                        278   \n",
      "2022-04-30                 0.0                        274   \n",
      "2022-05-31                51.0                        146   \n",
      "2022-06-30               134.0                        294   \n",
      "2022-07-31               138.0                        288   \n",
      "2022-08-31                43.0                        104   \n",
      "2022-09-30               114.0                        250   \n",
      "2022-10-31               108.0                        256   \n",
      "2022-11-30               162.0                        360   \n",
      "2022-12-31                47.0                        124   \n",
      "2023-01-31                 2.0                         10   \n",
      "\n",
      "            unified_contact_info_complete  send_surveys  month_test  \n",
      "Time_test                                                            \n",
      "2021-09-30                             48           7.0         216  \n",
      "2021-10-31                            324          35.0        1620  \n",
      "2021-11-30                            492          26.0        2706  \n",
      "2021-12-31                            254          17.0        1524  \n",
      "2022-01-31                            280          25.0         140  \n",
      "2022-02-28                            266          31.0         266  \n",
      "2022-03-31                            278          26.0         417  \n",
      "2022-04-30                            274          16.0         548  \n",
      "2022-05-31                            146          10.0         365  \n",
      "2022-06-30                            294          15.0         882  \n",
      "2022-07-31                            288          20.0        1008  \n",
      "2022-08-31                            104           2.0         416  \n",
      "2022-09-30                            250          29.0        1125  \n",
      "2022-10-31                            256          16.0        1280  \n",
      "2022-11-30                            360          17.0        1980  \n",
      "2022-12-31                            124           8.0         744  \n",
      "2023-01-31                             10           0.0           5  \n"
     ]
    }
   ],
   "source": [
    "\n",
    "\n",
    "format = '%Y/%m/%d %H:%M:%S'\n",
    "\n",
    "df_two['Time_test']= pd.to_datetime(df_two['pt_ts'])\n",
    "#type(df_two['pt_ts'])\n",
    "\n",
    "#df_two['Time_test'] = dt.datetime.strptime(df_two['pt_ts'],format)\n",
    "\n",
    "\n",
    "\n",
    "df_two_small = df_two[['redcap_event_name', 'Time_test', 'record_id']]\n",
    "\n",
    "\n",
    "df_two['month_test'] = df_two[\"Time_test\"].dt.month\n",
    "print(df_two)\n",
    "#df_two.head()\n",
    "\n",
    "test_object = df_two.groupby(pd.Grouper(key='Time_test', freq='1M')).sum()\n",
    "print(test_object)\n",
    "\n",
    "\n"
   ]
  },
  {
   "cell_type": "code",
   "execution_count": 11,
   "metadata": {},
   "outputs": [
    {
     "name": "stdout",
     "output_type": "stream",
     "text": [
      "            redcap_event_name  record_id\n",
      "Time_test                               \n",
      "2021-09-30                 24         24\n",
      "2021-10-31                162        162\n",
      "2021-11-30                246        246\n",
      "2021-12-31                127        127\n",
      "2022-01-31                140        140\n",
      "2022-02-28                133        133\n",
      "2022-03-31                139        139\n",
      "2022-04-30                137        137\n",
      "2022-05-31                 73         73\n",
      "2022-06-30                147        147\n",
      "2022-07-31                144        144\n",
      "2022-08-31                 52         52\n",
      "2022-09-30                125        125\n",
      "2022-10-31                128        128\n",
      "2022-11-30                180        180\n",
      "2022-12-31                 62         62\n",
      "2023-01-31                  5          5\n"
     ]
    }
   ],
   "source": [
    "df_two_small = df_two[['redcap_event_name', 'Time_test','record_id']]\n",
    "test_object = df_two_small.groupby(pd.Grouper(key='Time_test', freq='1M')).count()\n",
    "print(test_object)"
   ]
  },
  {
   "cell_type": "code",
   "execution_count": 12,
   "metadata": {},
   "outputs": [
    {
     "name": "stdout",
     "output_type": "stream",
     "text": [
      "Outcome at Follow Up  Contacted  No Change  Not Contacted\n",
      "Time_test2                                               \n",
      "2021-01-31                    0          0              1\n",
      "2021-03-31                    0          0              1\n",
      "2021-08-31                    0          4              0\n",
      "2021-09-30                    3          0             12\n",
      "2021-10-31                   30          1            114\n",
      "2021-11-30                   36          4            217\n",
      "2021-12-31                   26          1             74\n",
      "2022-01-31                   49          0            111\n",
      "2022-02-28                   38          0             94\n",
      "2022-03-31                   47          0             92\n",
      "2022-04-30                   35          0            105\n",
      "2022-05-31                   19          0             41\n",
      "2022-06-30                   59          0             98\n",
      "2022-07-31                   59          0             79\n",
      "2022-08-31                   13          0             39\n",
      "2022-09-30                   49          0             66\n",
      "2022-10-31                   44          2             92\n",
      "2022-11-30                   64          1            113\n",
      "2022-12-31                    1          0              9\n"
     ]
    }
   ],
   "source": [
    "df_211t = read_csv(\"211r.csv\")\n",
    "df_211t['Time_test2']= pd.to_datetime(df_211t['Date Added'])\n",
    "\n",
    "#df_211t['Date Added'] = df_211t['Date Added'].dt.strftime('%Y-%m')\n",
    "\n",
    "df_211t2 = df_211t.groupby(pd.Grouper(key='Time_test2', freq='1M'))\n",
    "#test_object = df_211t.groupby(pd.Grouper(key='Time_test2', freq='1M')).count()\n",
    "output = df_211t2['Outcome at Follow Up'].value_counts().unstack().fillna(0).astype(int).reindex()\n",
    "\n",
    "print(output)"
   ]
  },
  {
   "cell_type": "code",
   "execution_count": 13,
   "metadata": {},
   "outputs": [
    {
     "data": {
      "text/plain": [
       "9"
      ]
     },
     "execution_count": 13,
     "metadata": {},
     "output_type": "execute_result"
    }
   ],
   "source": [
    "output.iloc[-1,2]"
   ]
  },
  {
   "cell_type": "code",
   "execution_count": 14,
   "metadata": {},
   "outputs": [
    {
     "data": {
      "text/plain": [
       "Not Contacted    1200\n",
       "Contacted         486\n",
       "No Change          10\n",
       "Name: Outcome at Follow Up, dtype: int64"
      ]
     },
     "execution_count": 14,
     "metadata": {},
     "output_type": "execute_result"
    }
   ],
   "source": [
    "df_211 = read_csv(\"211.csv\")\n",
    "counts = df_211['Outcome at Follow Up'].value_counts()\n",
    "counts\n"
   ]
  },
  {
   "cell_type": "code",
   "execution_count": 15,
   "metadata": {},
   "outputs": [
    {
     "data": {
      "text/plain": [
       "52"
      ]
     },
     "execution_count": 15,
     "metadata": {},
     "output_type": "execute_result"
    }
   ],
   "source": [
    "df_211['Outcome at Follow Up'].isna().sum()"
   ]
  },
  {
   "cell_type": "code",
   "execution_count": 16,
   "metadata": {},
   "outputs": [
    {
     "name": "stdout",
     "output_type": "stream",
     "text": [
      "This is how many have been contacted by 211: 486\n"
     ]
    }
   ],
   "source": [
    "contacted = (counts['Contacted'])\n",
    "print(\"This is how many have been contacted by 211: \" + str(contacted))\n"
   ]
  },
  {
   "cell_type": "code",
   "execution_count": 17,
   "metadata": {},
   "outputs": [
    {
     "name": "stdout",
     "output_type": "stream",
     "text": [
      "This is how many have not been contacted by 211: 1200\n"
     ]
    }
   ],
   "source": [
    "not_contacted = (counts['Not Contacted'])\n",
    "print(\"This is how many have not been contacted by 211: \" + str(not_contacted))"
   ]
  },
  {
   "cell_type": "code",
   "execution_count": 18,
   "metadata": {},
   "outputs": [
    {
     "name": "stdout",
     "output_type": "stream",
     "text": [
      "This is the number of people that were contacted by 211 but did not want to enroll:  184\n"
     ]
    }
   ],
   "source": [
    "Diff = (contacted)-(participate)\n",
    "\n",
    "print(\"This is the number of people that were contacted by 211 but did not want to enroll: \", str(Diff))\n"
   ]
  },
  {
   "cell_type": "code",
   "execution_count": 19,
   "metadata": {},
   "outputs": [
    {
     "ename": "OSError",
     "evalue": "[Errno 22] Invalid argument",
     "output_type": "error",
     "traceback": [
      "\u001b[1;31m---------------------------------------------------------------------------\u001b[0m",
      "\u001b[1;31mOSError\u001b[0m                                   Traceback (most recent call last)",
      "\u001b[1;32m~\\AppData\\Local\\Temp\\ipykernel_12704\\1095443755.py\u001b[0m in \u001b[0;36m<module>\u001b[1;34m\u001b[0m\n\u001b[1;32m----> 1\u001b[1;33m \u001b[0mdf_mc\u001b[0m \u001b[1;33m=\u001b[0m \u001b[0mpd\u001b[0m\u001b[1;33m.\u001b[0m\u001b[0mread_csv\u001b[0m\u001b[1;33m(\u001b[0m\u001b[1;34m\"MCtemplate.CSV\"\u001b[0m\u001b[1;33m)\u001b[0m\u001b[1;33m\u001b[0m\u001b[1;33m\u001b[0m\u001b[0m\n\u001b[0m\u001b[0;32m      2\u001b[0m \u001b[1;33m\u001b[0m\u001b[0m\n\u001b[0;32m      3\u001b[0m \u001b[0mcurrent_month\u001b[0m \u001b[1;33m=\u001b[0m \u001b[0mdt\u001b[0m\u001b[1;33m.\u001b[0m\u001b[0mdatetime\u001b[0m\u001b[1;33m.\u001b[0m\u001b[0mnow\u001b[0m\u001b[1;33m(\u001b[0m\u001b[1;33m)\u001b[0m\u001b[1;33m\u001b[0m\u001b[1;33m\u001b[0m\u001b[0m\n\u001b[0;32m      4\u001b[0m \u001b[1;33m\u001b[0m\u001b[0m\n\u001b[0;32m      5\u001b[0m \u001b[0mmonth_row\u001b[0m \u001b[1;33m=\u001b[0m \u001b[1;33m{\u001b[0m\u001b[1;34m'Month'\u001b[0m\u001b[1;33m:\u001b[0m \u001b[0mcurrent_month\u001b[0m\u001b[1;33m.\u001b[0m\u001b[0mstrftime\u001b[0m\u001b[1;33m(\u001b[0m\u001b[1;34m\"%B\"\u001b[0m\u001b[1;33m)\u001b[0m\u001b[1;33m,\u001b[0m \u001b[1;34m'Total'\u001b[0m\u001b[1;33m:\u001b[0m \u001b[0mtotal\u001b[0m\u001b[1;33m,\u001b[0m \u001b[1;34m'Not Contacted'\u001b[0m\u001b[1;33m:\u001b[0m \u001b[0mnot_contacted\u001b[0m\u001b[1;33m,\u001b[0m \u001b[1;34m'Contacted'\u001b[0m\u001b[1;33m:\u001b[0m \u001b[0mcontacted\u001b[0m\u001b[1;33m,\u001b[0m \u001b[1;34m'Agreed to participate'\u001b[0m\u001b[1;33m:\u001b[0m \u001b[0mparticipate\u001b[0m\u001b[1;33m,\u001b[0m \u001b[1;34m'Did not want to participate'\u001b[0m\u001b[1;33m:\u001b[0m \u001b[0mDiff\u001b[0m\u001b[1;33m}\u001b[0m\u001b[1;33m\u001b[0m\u001b[1;33m\u001b[0m\u001b[0m\n",
      "\u001b[1;32mc:\\Users\\u0766647\\Anaconda3\\lib\\site-packages\\pandas\\util\\_decorators.py\u001b[0m in \u001b[0;36mwrapper\u001b[1;34m(*args, **kwargs)\u001b[0m\n\u001b[0;32m    309\u001b[0m                     \u001b[0mstacklevel\u001b[0m\u001b[1;33m=\u001b[0m\u001b[0mstacklevel\u001b[0m\u001b[1;33m,\u001b[0m\u001b[1;33m\u001b[0m\u001b[1;33m\u001b[0m\u001b[0m\n\u001b[0;32m    310\u001b[0m                 )\n\u001b[1;32m--> 311\u001b[1;33m             \u001b[1;32mreturn\u001b[0m \u001b[0mfunc\u001b[0m\u001b[1;33m(\u001b[0m\u001b[1;33m*\u001b[0m\u001b[0margs\u001b[0m\u001b[1;33m,\u001b[0m \u001b[1;33m**\u001b[0m\u001b[0mkwargs\u001b[0m\u001b[1;33m)\u001b[0m\u001b[1;33m\u001b[0m\u001b[1;33m\u001b[0m\u001b[0m\n\u001b[0m\u001b[0;32m    312\u001b[0m \u001b[1;33m\u001b[0m\u001b[0m\n\u001b[0;32m    313\u001b[0m         \u001b[1;32mreturn\u001b[0m \u001b[0mwrapper\u001b[0m\u001b[1;33m\u001b[0m\u001b[1;33m\u001b[0m\u001b[0m\n",
      "\u001b[1;32mc:\\Users\\u0766647\\Anaconda3\\lib\\site-packages\\pandas\\io\\parsers\\readers.py\u001b[0m in \u001b[0;36mread_csv\u001b[1;34m(filepath_or_buffer, sep, delimiter, header, names, index_col, usecols, squeeze, prefix, mangle_dupe_cols, dtype, engine, converters, true_values, false_values, skipinitialspace, skiprows, skipfooter, nrows, na_values, keep_default_na, na_filter, verbose, skip_blank_lines, parse_dates, infer_datetime_format, keep_date_col, date_parser, dayfirst, cache_dates, iterator, chunksize, compression, thousands, decimal, lineterminator, quotechar, quoting, doublequote, escapechar, comment, encoding, encoding_errors, dialect, error_bad_lines, warn_bad_lines, on_bad_lines, delim_whitespace, low_memory, memory_map, float_precision, storage_options)\u001b[0m\n\u001b[0;32m    676\u001b[0m     \u001b[0mkwds\u001b[0m\u001b[1;33m.\u001b[0m\u001b[0mupdate\u001b[0m\u001b[1;33m(\u001b[0m\u001b[0mkwds_defaults\u001b[0m\u001b[1;33m)\u001b[0m\u001b[1;33m\u001b[0m\u001b[1;33m\u001b[0m\u001b[0m\n\u001b[0;32m    677\u001b[0m \u001b[1;33m\u001b[0m\u001b[0m\n\u001b[1;32m--> 678\u001b[1;33m     \u001b[1;32mreturn\u001b[0m \u001b[0m_read\u001b[0m\u001b[1;33m(\u001b[0m\u001b[0mfilepath_or_buffer\u001b[0m\u001b[1;33m,\u001b[0m \u001b[0mkwds\u001b[0m\u001b[1;33m)\u001b[0m\u001b[1;33m\u001b[0m\u001b[1;33m\u001b[0m\u001b[0m\n\u001b[0m\u001b[0;32m    679\u001b[0m \u001b[1;33m\u001b[0m\u001b[0m\n\u001b[0;32m    680\u001b[0m \u001b[1;33m\u001b[0m\u001b[0m\n",
      "\u001b[1;32mc:\\Users\\u0766647\\Anaconda3\\lib\\site-packages\\pandas\\io\\parsers\\readers.py\u001b[0m in \u001b[0;36m_read\u001b[1;34m(filepath_or_buffer, kwds)\u001b[0m\n\u001b[0;32m    573\u001b[0m \u001b[1;33m\u001b[0m\u001b[0m\n\u001b[0;32m    574\u001b[0m     \u001b[1;31m# Create the parser.\u001b[0m\u001b[1;33m\u001b[0m\u001b[1;33m\u001b[0m\u001b[0m\n\u001b[1;32m--> 575\u001b[1;33m     \u001b[0mparser\u001b[0m \u001b[1;33m=\u001b[0m \u001b[0mTextFileReader\u001b[0m\u001b[1;33m(\u001b[0m\u001b[0mfilepath_or_buffer\u001b[0m\u001b[1;33m,\u001b[0m \u001b[1;33m**\u001b[0m\u001b[0mkwds\u001b[0m\u001b[1;33m)\u001b[0m\u001b[1;33m\u001b[0m\u001b[1;33m\u001b[0m\u001b[0m\n\u001b[0m\u001b[0;32m    576\u001b[0m \u001b[1;33m\u001b[0m\u001b[0m\n\u001b[0;32m    577\u001b[0m     \u001b[1;32mif\u001b[0m \u001b[0mchunksize\u001b[0m \u001b[1;32mor\u001b[0m \u001b[0miterator\u001b[0m\u001b[1;33m:\u001b[0m\u001b[1;33m\u001b[0m\u001b[1;33m\u001b[0m\u001b[0m\n",
      "\u001b[1;32mc:\\Users\\u0766647\\Anaconda3\\lib\\site-packages\\pandas\\io\\parsers\\readers.py\u001b[0m in \u001b[0;36m__init__\u001b[1;34m(self, f, engine, **kwds)\u001b[0m\n\u001b[0;32m    930\u001b[0m \u001b[1;33m\u001b[0m\u001b[0m\n\u001b[0;32m    931\u001b[0m         \u001b[0mself\u001b[0m\u001b[1;33m.\u001b[0m\u001b[0mhandles\u001b[0m\u001b[1;33m:\u001b[0m \u001b[0mIOHandles\u001b[0m \u001b[1;33m|\u001b[0m \u001b[1;32mNone\u001b[0m \u001b[1;33m=\u001b[0m \u001b[1;32mNone\u001b[0m\u001b[1;33m\u001b[0m\u001b[1;33m\u001b[0m\u001b[0m\n\u001b[1;32m--> 932\u001b[1;33m         \u001b[0mself\u001b[0m\u001b[1;33m.\u001b[0m\u001b[0m_engine\u001b[0m \u001b[1;33m=\u001b[0m \u001b[0mself\u001b[0m\u001b[1;33m.\u001b[0m\u001b[0m_make_engine\u001b[0m\u001b[1;33m(\u001b[0m\u001b[0mf\u001b[0m\u001b[1;33m,\u001b[0m \u001b[0mself\u001b[0m\u001b[1;33m.\u001b[0m\u001b[0mengine\u001b[0m\u001b[1;33m)\u001b[0m\u001b[1;33m\u001b[0m\u001b[1;33m\u001b[0m\u001b[0m\n\u001b[0m\u001b[0;32m    933\u001b[0m \u001b[1;33m\u001b[0m\u001b[0m\n\u001b[0;32m    934\u001b[0m     \u001b[1;32mdef\u001b[0m \u001b[0mclose\u001b[0m\u001b[1;33m(\u001b[0m\u001b[0mself\u001b[0m\u001b[1;33m)\u001b[0m\u001b[1;33m:\u001b[0m\u001b[1;33m\u001b[0m\u001b[1;33m\u001b[0m\u001b[0m\n",
      "\u001b[1;32mc:\\Users\\u0766647\\Anaconda3\\lib\\site-packages\\pandas\\io\\parsers\\readers.py\u001b[0m in \u001b[0;36m_make_engine\u001b[1;34m(self, f, engine)\u001b[0m\n\u001b[0;32m   1232\u001b[0m \u001b[1;33m\u001b[0m\u001b[0m\n\u001b[0;32m   1233\u001b[0m         \u001b[1;32mtry\u001b[0m\u001b[1;33m:\u001b[0m\u001b[1;33m\u001b[0m\u001b[1;33m\u001b[0m\u001b[0m\n\u001b[1;32m-> 1234\u001b[1;33m             \u001b[1;32mreturn\u001b[0m \u001b[0mmapping\u001b[0m\u001b[1;33m[\u001b[0m\u001b[0mengine\u001b[0m\u001b[1;33m]\u001b[0m\u001b[1;33m(\u001b[0m\u001b[0mf\u001b[0m\u001b[1;33m,\u001b[0m \u001b[1;33m**\u001b[0m\u001b[0mself\u001b[0m\u001b[1;33m.\u001b[0m\u001b[0moptions\u001b[0m\u001b[1;33m)\u001b[0m\u001b[1;33m\u001b[0m\u001b[1;33m\u001b[0m\u001b[0m\n\u001b[0m\u001b[0;32m   1235\u001b[0m         \u001b[1;32mexcept\u001b[0m \u001b[0mException\u001b[0m\u001b[1;33m:\u001b[0m\u001b[1;33m\u001b[0m\u001b[1;33m\u001b[0m\u001b[0m\n\u001b[0;32m   1236\u001b[0m             \u001b[1;32mif\u001b[0m \u001b[0mself\u001b[0m\u001b[1;33m.\u001b[0m\u001b[0mhandles\u001b[0m \u001b[1;32mis\u001b[0m \u001b[1;32mnot\u001b[0m \u001b[1;32mNone\u001b[0m\u001b[1;33m:\u001b[0m\u001b[1;33m\u001b[0m\u001b[1;33m\u001b[0m\u001b[0m\n",
      "\u001b[1;32mc:\\Users\\u0766647\\Anaconda3\\lib\\site-packages\\pandas\\io\\parsers\\c_parser_wrapper.py\u001b[0m in \u001b[0;36m__init__\u001b[1;34m(self, src, **kwds)\u001b[0m\n\u001b[0;32m     73\u001b[0m \u001b[1;33m\u001b[0m\u001b[0m\n\u001b[0;32m     74\u001b[0m         \u001b[0mkwds\u001b[0m\u001b[1;33m[\u001b[0m\u001b[1;34m\"dtype\"\u001b[0m\u001b[1;33m]\u001b[0m \u001b[1;33m=\u001b[0m \u001b[0mensure_dtype_objs\u001b[0m\u001b[1;33m(\u001b[0m\u001b[0mkwds\u001b[0m\u001b[1;33m.\u001b[0m\u001b[0mget\u001b[0m\u001b[1;33m(\u001b[0m\u001b[1;34m\"dtype\"\u001b[0m\u001b[1;33m,\u001b[0m \u001b[1;32mNone\u001b[0m\u001b[1;33m)\u001b[0m\u001b[1;33m)\u001b[0m\u001b[1;33m\u001b[0m\u001b[1;33m\u001b[0m\u001b[0m\n\u001b[1;32m---> 75\u001b[1;33m         \u001b[0mself\u001b[0m\u001b[1;33m.\u001b[0m\u001b[0m_reader\u001b[0m \u001b[1;33m=\u001b[0m \u001b[0mparsers\u001b[0m\u001b[1;33m.\u001b[0m\u001b[0mTextReader\u001b[0m\u001b[1;33m(\u001b[0m\u001b[0msrc\u001b[0m\u001b[1;33m,\u001b[0m \u001b[1;33m**\u001b[0m\u001b[0mkwds\u001b[0m\u001b[1;33m)\u001b[0m\u001b[1;33m\u001b[0m\u001b[1;33m\u001b[0m\u001b[0m\n\u001b[0m\u001b[0;32m     76\u001b[0m \u001b[1;33m\u001b[0m\u001b[0m\n\u001b[0;32m     77\u001b[0m         \u001b[0mself\u001b[0m\u001b[1;33m.\u001b[0m\u001b[0munnamed_cols\u001b[0m \u001b[1;33m=\u001b[0m \u001b[0mself\u001b[0m\u001b[1;33m.\u001b[0m\u001b[0m_reader\u001b[0m\u001b[1;33m.\u001b[0m\u001b[0munnamed_cols\u001b[0m\u001b[1;33m\u001b[0m\u001b[1;33m\u001b[0m\u001b[0m\n",
      "\u001b[1;32mc:\\Users\\u0766647\\Anaconda3\\lib\\site-packages\\pandas\\_libs\\parsers.pyx\u001b[0m in \u001b[0;36mpandas._libs.parsers.TextReader.__cinit__\u001b[1;34m()\u001b[0m\n",
      "\u001b[1;32mc:\\Users\\u0766647\\Anaconda3\\lib\\site-packages\\pandas\\_libs\\parsers.pyx\u001b[0m in \u001b[0;36mpandas._libs.parsers.TextReader._get_header\u001b[1;34m()\u001b[0m\n",
      "\u001b[1;32mc:\\Users\\u0766647\\Anaconda3\\lib\\site-packages\\pandas\\_libs\\parsers.pyx\u001b[0m in \u001b[0;36mpandas._libs.parsers.TextReader._tokenize_rows\u001b[1;34m()\u001b[0m\n",
      "\u001b[1;32mc:\\Users\\u0766647\\Anaconda3\\lib\\site-packages\\pandas\\_libs\\parsers.pyx\u001b[0m in \u001b[0;36mpandas._libs.parsers.raise_parser_error\u001b[1;34m()\u001b[0m\n",
      "\u001b[1;31mOSError\u001b[0m: [Errno 22] Invalid argument"
     ]
    }
   ],
   "source": [
    "df_mc = pd.read_csv(\"MCtemplate.CSV\")\n",
    "\n",
    "current_month = dt.datetime.now()\n",
    "\n",
    "month_row = {'Month': current_month.strftime(\"%B\"), 'Total': total, 'Not Contacted': not_contacted, 'Contacted': contacted, 'Agreed to participate': participate, 'Did not want to participate': Diff}\n",
    "\n",
    "df_mc =df_mc.append(month_row, ignore_index=True)\n",
    "\n",
    "df_mc\n",
    "\n",
    "\n"
   ]
  },
  {
   "cell_type": "code",
   "execution_count": null,
   "metadata": {},
   "outputs": [
    {
     "data": {
      "text/plain": [
       "dict"
      ]
     },
     "execution_count": 18,
     "metadata": {},
     "output_type": "execute_result"
    }
   ],
   "source": [
    "type(month_row)"
   ]
  },
  {
   "cell_type": "code",
   "execution_count": null,
   "metadata": {},
   "outputs": [],
   "source": [
    "df_mc.to_csv(\"MCtemplate.CSV\")"
   ]
  },
  {
   "cell_type": "code",
   "execution_count": null,
   "metadata": {},
   "outputs": [
    {
     "data": {
      "text/plain": [
       "{'Month': 'January',\n",
       " 'Not Contacted': 9,\n",
       " 'Contacted': 1,\n",
       " 'Not Contacted Total': 1200,\n",
       " 'Contacted Total': 486,\n",
       " 'Agreed to Participate Total': 302,\n",
       " 'Did not want to Partcipate Total': 184}"
      ]
     },
     "execution_count": 20,
     "metadata": {},
     "output_type": "execute_result"
    }
   ],
   "source": [
    "meaningful = {'Month': current_month.strftime(\"%B\"), 'Not Contacted': output.iloc[-1,2], 'Contacted': output.iloc[-1,0], 'Not Contacted Total': not_contacted,\n",
    "'Contacted Total': contacted, 'Agreed to Participate Total': participate, 'Did not want to Partcipate Total': Diff}\n",
    "meaningful"
   ]
  },
  {
   "cell_type": "code",
   "execution_count": 21,
   "metadata": {},
   "outputs": [],
   "source": [
    "def report_download (token, report_id):\n",
    "    data = {\n",
    "        'token': token,\n",
    "        'content': 'report',\n",
    "        'format': 'csv',\n",
    "        'report_id': report_id,\n",
    "        'rawOrLabel': 'raw',\n",
    "        'rawOrLabelHeaders': 'raw',\n",
    "        'exportCheckboxLabel': 'false',\n",
    "        'returnFormat': 'json'\n",
    "    }\n",
    "    r = requests.post('https://redcap01.brisc.utah.edu/ccts/redcap/api/', verify=True, data=data)\n",
    "    # Make into a dataframe\n",
    "    redcap = pd.read_csv(StringIO(r.text), sep =\",\")\n",
    "    return(redcap)\n",
    "\n",
    "# Call the function with your token, and the report number\n",
    "report_30562 = report_download('FD34231CD69B4FDE6BF084DD97DD05B2', '30562')\n",
    "\n",
    "# Instead of using the report_download function, I'm going to get the\n",
    "# 'contact_data' variable, since there is no report in REDCap that just gets the contact_date.\n",
    "\n",
    "data = {\n",
    "    'token': 'FD34231CD69B4FDE6BF084DD97DD05B2',\n",
    "    'content': 'record',\n",
    "    'action': 'export',\n",
    "    'format': 'csv',\n",
    "    'type': 'flat',\n",
    "    'csvDelimiter': '',\n",
    "    'fields[0]': 'record_id',\n",
    "    'fields[1]': 'contact_date',\n",
    "    'events[0]': 'screener_arm_1',\n",
    "    'rawOrLabel': 'raw',\n",
    "    'rawOrLabelHeaders': 'raw',\n",
    "    'exportCheckboxLabel': 'false',\n",
    "    'exportSurveyFields': 'false',\n",
    "    'exportDataAccessGroups': 'false',\n",
    "    'returnFormat': 'json'\n",
    "}\n",
    "r = requests.post('https://redcap01.brisc.utah.edu/ccts/redcap/api/',data=data)\n",
    "contact_date = pd.read_csv(StringIO(r.text), sep =\",\")\n",
    "\n",
    "# Now we have two dataframes and need to merge\n",
    "report_with_contact_date = pd.merge(left=report_30562,right=contact_date, how='left', left_on='record_id', right_on='record_id')\n"
   ]
  },
  {
   "cell_type": "code",
   "execution_count": 41,
   "metadata": {},
   "outputs": [
    {
     "ename": "ValueError",
     "evalue": "operands could not be broadcast together with shape (13,) (12,)",
     "output_type": "error",
     "traceback": [
      "\u001b[1;31m---------------------------------------------------------------------------\u001b[0m",
      "\u001b[1;31mValueError\u001b[0m                                Traceback (most recent call last)",
      "\u001b[1;32m~\\AppData\\Local\\Temp\\ipykernel_12704\\2674644827.py\u001b[0m in \u001b[0;36m<module>\u001b[1;34m\u001b[0m\n\u001b[0;32m      4\u001b[0m \u001b[1;33m\u001b[0m\u001b[0m\n\u001b[0;32m      5\u001b[0m \u001b[0mdf_contact\u001b[0m \u001b[1;33m=\u001b[0m \u001b[0mreport_with_contact_date\u001b[0m\u001b[1;33m.\u001b[0m\u001b[0mgroupby\u001b[0m\u001b[1;33m(\u001b[0m\u001b[0mpd\u001b[0m\u001b[1;33m.\u001b[0m\u001b[0mGrouper\u001b[0m\u001b[1;33m(\u001b[0m\u001b[0mkey\u001b[0m\u001b[1;33m=\u001b[0m\u001b[1;34m't_test'\u001b[0m\u001b[1;33m,\u001b[0m \u001b[0mfreq\u001b[0m\u001b[1;33m=\u001b[0m\u001b[1;34m'1M'\u001b[0m\u001b[1;33m)\u001b[0m\u001b[1;33m)\u001b[0m\u001b[1;33m\u001b[0m\u001b[1;33m\u001b[0m\u001b[0m\n\u001b[1;32m----> 6\u001b[1;33m \u001b[0moutput_contact\u001b[0m \u001b[1;33m=\u001b[0m \u001b[0mdf_contact\u001b[0m\u001b[1;33m[\u001b[0m\u001b[1;34m'record_id'\u001b[0m\u001b[1;33m]\u001b[0m\u001b[1;33m.\u001b[0m\u001b[0mvalue_counts\u001b[0m\u001b[1;33m(\u001b[0m\u001b[1;33m)\u001b[0m\u001b[1;33m.\u001b[0m\u001b[0munstack\u001b[0m\u001b[1;33m(\u001b[0m\u001b[1;33m)\u001b[0m\u001b[1;33m.\u001b[0m\u001b[0mfillna\u001b[0m\u001b[1;33m(\u001b[0m\u001b[1;36m0\u001b[0m\u001b[1;33m)\u001b[0m\u001b[1;33m.\u001b[0m\u001b[0mastype\u001b[0m\u001b[1;33m(\u001b[0m\u001b[0mint\u001b[0m\u001b[1;33m)\u001b[0m\u001b[1;33m.\u001b[0m\u001b[0mreindex\u001b[0m\u001b[1;33m(\u001b[0m\u001b[1;33m)\u001b[0m\u001b[1;33m\u001b[0m\u001b[1;33m\u001b[0m\u001b[0m\n\u001b[0m\u001b[0;32m      7\u001b[0m \u001b[0mprint\u001b[0m\u001b[1;33m(\u001b[0m\u001b[0moutput_contact\u001b[0m\u001b[1;33m)\u001b[0m\u001b[1;33m\u001b[0m\u001b[1;33m\u001b[0m\u001b[0m\n\u001b[0;32m      8\u001b[0m \u001b[1;31m#report_with_contact_date.tail()\u001b[0m\u001b[1;33m\u001b[0m\u001b[1;33m\u001b[0m\u001b[0m\n",
      "\u001b[1;32mc:\\Users\\u0766647\\Anaconda3\\lib\\site-packages\\pandas\\core\\groupby\\generic.py\u001b[0m in \u001b[0;36mvalue_counts\u001b[1;34m(self, normalize, sort, ascending, bins, dropna)\u001b[0m\n\u001b[0;32m    678\u001b[0m         \u001b[1;31m# multi-index components\u001b[0m\u001b[1;33m\u001b[0m\u001b[1;33m\u001b[0m\u001b[0m\n\u001b[0;32m    679\u001b[0m         \u001b[0mcodes\u001b[0m \u001b[1;33m=\u001b[0m \u001b[0mself\u001b[0m\u001b[1;33m.\u001b[0m\u001b[0mgrouper\u001b[0m\u001b[1;33m.\u001b[0m\u001b[0mreconstructed_codes\u001b[0m\u001b[1;33m\u001b[0m\u001b[1;33m\u001b[0m\u001b[0m\n\u001b[1;32m--> 680\u001b[1;33m         \u001b[0mcodes\u001b[0m \u001b[1;33m=\u001b[0m \u001b[1;33m[\u001b[0m\u001b[0mrep\u001b[0m\u001b[1;33m(\u001b[0m\u001b[0mlevel_codes\u001b[0m\u001b[1;33m)\u001b[0m \u001b[1;32mfor\u001b[0m \u001b[0mlevel_codes\u001b[0m \u001b[1;32min\u001b[0m \u001b[0mcodes\u001b[0m\u001b[1;33m]\u001b[0m \u001b[1;33m+\u001b[0m \u001b[1;33m[\u001b[0m\u001b[0mllab\u001b[0m\u001b[1;33m(\u001b[0m\u001b[0mlab\u001b[0m\u001b[1;33m,\u001b[0m \u001b[0minc\u001b[0m\u001b[1;33m)\u001b[0m\u001b[1;33m]\u001b[0m\u001b[1;33m\u001b[0m\u001b[1;33m\u001b[0m\u001b[0m\n\u001b[0m\u001b[0;32m    681\u001b[0m         \u001b[1;31m# error: List item 0 has incompatible type \"Union[ndarray[Any, Any], Index]\";\u001b[0m\u001b[1;33m\u001b[0m\u001b[1;33m\u001b[0m\u001b[0m\n\u001b[0;32m    682\u001b[0m         \u001b[1;31m# expected \"Index\"\u001b[0m\u001b[1;33m\u001b[0m\u001b[1;33m\u001b[0m\u001b[0m\n",
      "\u001b[1;32mc:\\Users\\u0766647\\Anaconda3\\lib\\site-packages\\pandas\\core\\groupby\\generic.py\u001b[0m in \u001b[0;36m<listcomp>\u001b[1;34m(.0)\u001b[0m\n\u001b[0;32m    678\u001b[0m         \u001b[1;31m# multi-index components\u001b[0m\u001b[1;33m\u001b[0m\u001b[1;33m\u001b[0m\u001b[0m\n\u001b[0;32m    679\u001b[0m         \u001b[0mcodes\u001b[0m \u001b[1;33m=\u001b[0m \u001b[0mself\u001b[0m\u001b[1;33m.\u001b[0m\u001b[0mgrouper\u001b[0m\u001b[1;33m.\u001b[0m\u001b[0mreconstructed_codes\u001b[0m\u001b[1;33m\u001b[0m\u001b[1;33m\u001b[0m\u001b[0m\n\u001b[1;32m--> 680\u001b[1;33m         \u001b[0mcodes\u001b[0m \u001b[1;33m=\u001b[0m \u001b[1;33m[\u001b[0m\u001b[0mrep\u001b[0m\u001b[1;33m(\u001b[0m\u001b[0mlevel_codes\u001b[0m\u001b[1;33m)\u001b[0m \u001b[1;32mfor\u001b[0m \u001b[0mlevel_codes\u001b[0m \u001b[1;32min\u001b[0m \u001b[0mcodes\u001b[0m\u001b[1;33m]\u001b[0m \u001b[1;33m+\u001b[0m \u001b[1;33m[\u001b[0m\u001b[0mllab\u001b[0m\u001b[1;33m(\u001b[0m\u001b[0mlab\u001b[0m\u001b[1;33m,\u001b[0m \u001b[0minc\u001b[0m\u001b[1;33m)\u001b[0m\u001b[1;33m]\u001b[0m\u001b[1;33m\u001b[0m\u001b[1;33m\u001b[0m\u001b[0m\n\u001b[0m\u001b[0;32m    681\u001b[0m         \u001b[1;31m# error: List item 0 has incompatible type \"Union[ndarray[Any, Any], Index]\";\u001b[0m\u001b[1;33m\u001b[0m\u001b[1;33m\u001b[0m\u001b[0m\n\u001b[0;32m    682\u001b[0m         \u001b[1;31m# expected \"Index\"\u001b[0m\u001b[1;33m\u001b[0m\u001b[1;33m\u001b[0m\u001b[0m\n",
      "\u001b[1;32m<__array_function__ internals>\u001b[0m in \u001b[0;36mrepeat\u001b[1;34m(*args, **kwargs)\u001b[0m\n",
      "\u001b[1;32mc:\\Users\\u0766647\\Anaconda3\\lib\\site-packages\\numpy\\core\\fromnumeric.py\u001b[0m in \u001b[0;36mrepeat\u001b[1;34m(a, repeats, axis)\u001b[0m\n\u001b[0;32m    477\u001b[0m \u001b[1;33m\u001b[0m\u001b[0m\n\u001b[0;32m    478\u001b[0m     \"\"\"\n\u001b[1;32m--> 479\u001b[1;33m     \u001b[1;32mreturn\u001b[0m \u001b[0m_wrapfunc\u001b[0m\u001b[1;33m(\u001b[0m\u001b[0ma\u001b[0m\u001b[1;33m,\u001b[0m \u001b[1;34m'repeat'\u001b[0m\u001b[1;33m,\u001b[0m \u001b[0mrepeats\u001b[0m\u001b[1;33m,\u001b[0m \u001b[0maxis\u001b[0m\u001b[1;33m=\u001b[0m\u001b[0maxis\u001b[0m\u001b[1;33m)\u001b[0m\u001b[1;33m\u001b[0m\u001b[1;33m\u001b[0m\u001b[0m\n\u001b[0m\u001b[0;32m    480\u001b[0m \u001b[1;33m\u001b[0m\u001b[0m\n\u001b[0;32m    481\u001b[0m \u001b[1;33m\u001b[0m\u001b[0m\n",
      "\u001b[1;32mc:\\Users\\u0766647\\Anaconda3\\lib\\site-packages\\numpy\\core\\fromnumeric.py\u001b[0m in \u001b[0;36m_wrapfunc\u001b[1;34m(obj, method, *args, **kwds)\u001b[0m\n\u001b[0;32m     55\u001b[0m \u001b[1;33m\u001b[0m\u001b[0m\n\u001b[0;32m     56\u001b[0m     \u001b[1;32mtry\u001b[0m\u001b[1;33m:\u001b[0m\u001b[1;33m\u001b[0m\u001b[1;33m\u001b[0m\u001b[0m\n\u001b[1;32m---> 57\u001b[1;33m         \u001b[1;32mreturn\u001b[0m \u001b[0mbound\u001b[0m\u001b[1;33m(\u001b[0m\u001b[1;33m*\u001b[0m\u001b[0margs\u001b[0m\u001b[1;33m,\u001b[0m \u001b[1;33m**\u001b[0m\u001b[0mkwds\u001b[0m\u001b[1;33m)\u001b[0m\u001b[1;33m\u001b[0m\u001b[1;33m\u001b[0m\u001b[0m\n\u001b[0m\u001b[0;32m     58\u001b[0m     \u001b[1;32mexcept\u001b[0m \u001b[0mTypeError\u001b[0m\u001b[1;33m:\u001b[0m\u001b[1;33m\u001b[0m\u001b[1;33m\u001b[0m\u001b[0m\n\u001b[0;32m     59\u001b[0m         \u001b[1;31m# A TypeError occurs if the object does have such a method in its\u001b[0m\u001b[1;33m\u001b[0m\u001b[1;33m\u001b[0m\u001b[0m\n",
      "\u001b[1;31mValueError\u001b[0m: operands could not be broadcast together with shape (13,) (12,)"
     ]
    }
   ],
   "source": [
    "report_with_contact_date['t_test'] = pd.to_datetime(report_with_contact_date['contact_date'],format = '%Y/%m/%d %H:%M:%S')\n",
    "#df_two['Time_test']= pd.to_datetime(df_two['pt_ts'])\n",
    "#report_with_contact_date.groupby(by=[report_with_contact_date.index.month, report_with_contact_date.index.year])\n",
    "\n",
    "df_contact = report_with_contact_date.groupby(pd.Grouper(key='t_test', freq='1M'))\n",
    "output_contact = df_contact['record_id'].value_counts().unstack().fillna(0).astype(int).reindex()\n",
    "print(output_contact)\n",
    "#report_with_contact_date.tail()"
   ]
  },
  {
   "cell_type": "code",
   "execution_count": 42,
   "metadata": {},
   "outputs": [
    {
     "name": "stdout",
     "output_type": "stream",
     "text": [
      "            record_id  redcap_event_name_x  site  language_start  group  \\\n",
      "t_test                                                                    \n",
      "2022-02-28         23                   23     0               0      0   \n",
      "2022-03-31         31                   31     0               0      0   \n",
      "2022-04-30         25                   25     0               0      0   \n",
      "2022-05-31          7                    7     0               0      0   \n",
      "2022-06-30         17                   17     0               0      0   \n",
      "2022-07-31         19                   19     0               0      0   \n",
      "2022-08-31          7                    7     0               0      0   \n",
      "2022-09-30         24                   24     0               0      0   \n",
      "2022-10-31         15                   15     0               0      0   \n",
      "2022-11-30         15                   15     0               0      0   \n",
      "2022-12-31         13                   13     0               0      0   \n",
      "2023-01-31          4                    4     0               0      0   \n",
      "\n",
      "            demographics_and_work_complete  trust_complete  \\\n",
      "t_test                                                       \n",
      "2022-02-28                              23              23   \n",
      "2022-03-31                              31              31   \n",
      "2022-04-30                              25              25   \n",
      "2022-05-31                               7               7   \n",
      "2022-06-30                              17              17   \n",
      "2022-07-31                              19              19   \n",
      "2022-08-31                               7               7   \n",
      "2022-09-30                              24              24   \n",
      "2022-10-31                              15              15   \n",
      "2022-11-30                              15              15   \n",
      "2022-12-31                              13              13   \n",
      "2023-01-31                               4               4   \n",
      "\n",
      "            redcap_event_name_y  contact_date  \n",
      "t_test                                         \n",
      "2022-02-28                   23            23  \n",
      "2022-03-31                   31            31  \n",
      "2022-04-30                   25            25  \n",
      "2022-05-31                    7             7  \n",
      "2022-06-30                   17            17  \n",
      "2022-07-31                   19            19  \n",
      "2022-08-31                    7             7  \n",
      "2022-09-30                   24            24  \n",
      "2022-10-31                   15            15  \n",
      "2022-11-30                   15            15  \n",
      "2022-12-31                   13            13  \n",
      "2023-01-31                    4             4  \n"
     ]
    }
   ],
   "source": [
    "report_with_contact_date['t_test'] = pd.to_datetime(report_with_contact_date['contact_date'],format = '%Y/%m/%d %H:%M:%S')\n",
    "df_contact = report_with_contact_date.groupby(pd.Grouper(key='t_test', freq='1M')).count()\n",
    "print(df_contact)\n",
    "\n",
    "#df_two_small = df_two[['redcap_event_name', 'Time_test','record_id']]\n",
    "#test_object = df_two_small.groupby(pd.Grouper(key='Time_test', freq='1M')).count()\n",
    "#print(test_object)"
   ]
  },
  {
   "cell_type": "code",
   "execution_count": 45,
   "metadata": {},
   "outputs": [
    {
     "data": {
      "text/plain": [
       "3"
      ]
     },
     "execution_count": 45,
     "metadata": {},
     "output_type": "execute_result"
    }
   ],
   "source": [
    "df_contact.iloc[-1,1] - output.iloc[-1,0]"
   ]
  },
  {
   "cell_type": "code",
   "execution_count": null,
   "metadata": {},
   "outputs": [],
   "source": []
  }
 ],
 "metadata": {
  "kernelspec": {
   "display_name": "base",
   "language": "python",
   "name": "python3"
  },
  "language_info": {
   "codemirror_mode": {
    "name": "ipython",
    "version": 3
   },
   "file_extension": ".py",
   "mimetype": "text/x-python",
   "name": "python",
   "nbconvert_exporter": "python",
   "pygments_lexer": "ipython3",
   "version": "3.9.13"
  },
  "orig_nbformat": 4,
  "vscode": {
   "interpreter": {
    "hash": "4a11fa6e2a5777e3e3dc2a6e664e61a448194690f4c6ae0026e74e8933ab77f5"
   }
  }
 },
 "nbformat": 4,
 "nbformat_minor": 2
}
