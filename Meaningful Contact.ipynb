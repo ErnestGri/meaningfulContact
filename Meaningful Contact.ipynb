{
 "cells": [
  {
   "cell_type": "code",
   "execution_count": 118,
   "metadata": {},
   "outputs": [],
   "source": [
    "import numpy as np\n",
    "import requests\n",
    "import pandas as pd\n",
    "import os\n",
    "from io import StringIO\n",
    "from pandas import *\n",
    "import socket\n",
    "from openpyxl import Workbook, load_workbook\n",
    "import datetime as dt\n",
    "from datetime import date\n"
   ]
  },
  {
   "cell_type": "code",
   "execution_count": 119,
   "metadata": {},
   "outputs": [],
   "source": [
    "os.chdir('C:/Users/Ernest/Box/NIH SINCERE Study/ServicePoint Data/Meaningful Contact/EG')"
   ]
  },
  {
   "cell_type": "code",
   "execution_count": 120,
   "metadata": {},
   "outputs": [
    {
     "data": {
      "text/plain": [
       "Not Contacted    1200\n",
       "Contacted         486\n",
       "No Change          10\n",
       "Name: Outcome at Follow Up, dtype: int64"
      ]
     },
     "execution_count": 120,
     "metadata": {},
     "output_type": "execute_result"
    }
   ],
   "source": [
    "df_211 = read_csv(\"211.csv\")\n",
    "counts = df_211['Outcome at Follow Up'].value_counts()\n",
    "counts\n"
   ]
  },
  {
   "cell_type": "code",
   "execution_count": 121,
   "metadata": {},
   "outputs": [
    {
     "data": {
      "text/plain": [
       "52"
      ]
     },
     "execution_count": 121,
     "metadata": {},
     "output_type": "execute_result"
    }
   ],
   "source": [
    "df_211['Outcome at Follow Up'].isna().sum()"
   ]
  },
  {
   "cell_type": "code",
   "execution_count": 122,
   "metadata": {},
   "outputs": [
    {
     "name": "stdout",
     "output_type": "stream",
     "text": [
      "This is how many have been contacted by 211: 486\n"
     ]
    }
   ],
   "source": [
    "print(\"This is how many have been contacted by 211: \" + str(counts['Contacted']))\n"
   ]
  },
  {
   "cell_type": "code",
   "execution_count": 123,
   "metadata": {},
   "outputs": [
    {
     "name": "stdout",
     "output_type": "stream",
     "text": [
      "This is how many have not been contacted by 211: 1200\n"
     ]
    }
   ],
   "source": [
    "print(\"This is how many have not been contacted by 211: \" + str(counts['Not Contacted']))"
   ]
  },
  {
   "cell_type": "code",
   "execution_count": 124,
   "metadata": {},
   "outputs": [
    {
     "name": "stdout",
     "output_type": "stream",
     "text": [
      "This is how many agreed to participate: 268\n",
      "This is the number of people that were contacted by 211 but did not want to enroll:  218\n"
     ]
    }
   ],
   "source": [
    "df_red = read_csv(\"redcap_report.csv\")\n",
    "counts_red = df_red['redcap_event_name'].value_counts()\n",
    "print(\"This is how many agreed to participate: \" + str(counts_red['baseline_arm_1']))\n",
    "\n",
    "Diff = (counts['Contacted'])-(counts_red['baseline_arm_1'])\n",
    "\n",
    "print(\"This is the number of people that were contacted by 211 but did not want to enroll: \", str(Diff))"
   ]
  },
  {
   "cell_type": "code",
   "execution_count": 125,
   "metadata": {},
   "outputs": [
    {
     "name": "stderr",
     "output_type": "stream",
     "text": [
      "C:\\Users\\Ernest\\AppData\\Local\\Temp\\ipykernel_7508\\2634131363.py:5: FutureWarning: The frame.append method is deprecated and will be removed from pandas in a future version. Use pandas.concat instead.\n",
      "  df_mc =df_mc.append(october_row, ignore_index=True)\n"
     ]
    },
    {
     "data": {
      "text/html": [
       "<div>\n",
       "<style scoped>\n",
       "    .dataframe tbody tr th:only-of-type {\n",
       "        vertical-align: middle;\n",
       "    }\n",
       "\n",
       "    .dataframe tbody tr th {\n",
       "        vertical-align: top;\n",
       "    }\n",
       "\n",
       "    .dataframe thead th {\n",
       "        text-align: right;\n",
       "    }\n",
       "</style>\n",
       "<table border=\"1\" class=\"dataframe\">\n",
       "  <thead>\n",
       "    <tr style=\"text-align: right;\">\n",
       "      <th></th>\n",
       "      <th>Month</th>\n",
       "      <th>Not Contacted</th>\n",
       "      <th>Contacted</th>\n",
       "      <th>Agreed to participate</th>\n",
       "      <th>Did not want to participate</th>\n",
       "    </tr>\n",
       "  </thead>\n",
       "  <tbody>\n",
       "    <tr>\n",
       "      <th>0</th>\n",
       "      <td>October</td>\n",
       "      <td>1200</td>\n",
       "      <td>486</td>\n",
       "      <td>268</td>\n",
       "      <td>218</td>\n",
       "    </tr>\n",
       "  </tbody>\n",
       "</table>\n",
       "</div>"
      ],
      "text/plain": [
       "     Month Not Contacted Contacted Agreed to participate  \\\n",
       "0  October          1200       486                   268   \n",
       "\n",
       "  Did not want to participate  \n",
       "0                         218  "
      ]
     },
     "execution_count": 125,
     "metadata": {},
     "output_type": "execute_result"
    }
   ],
   "source": [
    "df_mc = pd.read_csv(\"MCtemplate.CSV\")\n",
    "\n",
    "october_row = {'Month': 'October', 'Not Contacted': 1200, 'Contacted': 486, 'Agreed to participate': 268, 'Did not want to participate': 218}\n",
    "\n",
    "df_mc =df_mc.append(october_row, ignore_index=True)\n",
    "\n",
    "df_mc"
   ]
  },
  {
   "cell_type": "code",
   "execution_count": 141,
   "metadata": {},
   "outputs": [
    {
     "name": "stderr",
     "output_type": "stream",
     "text": [
      "C:\\Users\\Ernest\\AppData\\Local\\Temp\\ipykernel_7508\\2344446965.py:8: FutureWarning: The frame.append method is deprecated and will be removed from pandas in a future version. Use pandas.concat instead.\n",
      "  df_mc =df_mc.append(month_row, ignore_index=True)\n"
     ]
    },
    {
     "data": {
      "text/html": [
       "<div>\n",
       "<style scoped>\n",
       "    .dataframe tbody tr th:only-of-type {\n",
       "        vertical-align: middle;\n",
       "    }\n",
       "\n",
       "    .dataframe tbody tr th {\n",
       "        vertical-align: top;\n",
       "    }\n",
       "\n",
       "    .dataframe thead th {\n",
       "        text-align: right;\n",
       "    }\n",
       "</style>\n",
       "<table border=\"1\" class=\"dataframe\">\n",
       "  <thead>\n",
       "    <tr style=\"text-align: right;\">\n",
       "      <th></th>\n",
       "      <th>Month</th>\n",
       "      <th>Not Contacted</th>\n",
       "      <th>Contacted</th>\n",
       "      <th>Agreed to participate</th>\n",
       "      <th>Did not want to participate</th>\n",
       "    </tr>\n",
       "  </thead>\n",
       "  <tbody>\n",
       "    <tr>\n",
       "      <th>0</th>\n",
       "      <td>November</td>\n",
       "      <td>1200</td>\n",
       "      <td>486</td>\n",
       "      <td>268</td>\n",
       "      <td>218</td>\n",
       "    </tr>\n",
       "  </tbody>\n",
       "</table>\n",
       "</div>"
      ],
      "text/plain": [
       "      Month Not Contacted Contacted Agreed to participate  \\\n",
       "0  November          1200       486                   268   \n",
       "\n",
       "  Did not want to participate  \n",
       "0                         218  "
      ]
     },
     "execution_count": 141,
     "metadata": {},
     "output_type": "execute_result"
    }
   ],
   "source": [
    "df_mc = pd.read_csv(\"MCtemplate.CSV\")\n",
    "\n",
    "current_month = dt.datetime.now()\n",
    "\n",
    "month_row = {'Month': current_month.strftime(\"%B\"), 'Not Contacted': 1200, 'Contacted': 486, 'Agreed to participate': 268, 'Did not want to participate': 218}\n",
    "\n",
    "df_mc =df_mc.append(month_row, ignore_index=True)\n",
    "\n",
    "df_mc\n"
   ]
  },
  {
   "cell_type": "code",
   "execution_count": null,
   "metadata": {},
   "outputs": [],
   "source": [
    "wb = load_workbook('MCtemplate.xlsx')\n",
    "\n",
    "ws = wb.active\n",
    "ws.append(['October', '1200', '486', '268', '218'])\n",
    "\n",
    "\n",
    "wb.save('MCtemplate.xlsx')"
   ]
  },
  {
   "cell_type": "code",
   "execution_count": null,
   "metadata": {},
   "outputs": [],
   "source": []
  }
 ],
 "metadata": {
  "kernelspec": {
   "display_name": "Python 3.10.7 64-bit (microsoft store)",
   "language": "python",
   "name": "python3"
  },
  "language_info": {
   "codemirror_mode": {
    "name": "ipython",
    "version": 3
   },
   "file_extension": ".py",
   "mimetype": "text/x-python",
   "name": "python",
   "nbconvert_exporter": "python",
   "pygments_lexer": "ipython3",
   "version": "3.10.7"
  },
  "orig_nbformat": 4,
  "vscode": {
   "interpreter": {
    "hash": "3ee490333935540ff55d66d7083029ff472170a9ee2a34f175e4cd2e6f6b9c5e"
   }
  }
 },
 "nbformat": 4,
 "nbformat_minor": 2
}
