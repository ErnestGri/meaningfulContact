{
 "cells": [
  {
   "cell_type": "code",
   "execution_count": 39,
   "metadata": {},
   "outputs": [],
   "source": [
    "import numpy as np\n",
    "import requests\n",
    "import pandas as pd\n",
    "import os\n",
    "from io import StringIO\n",
    "from pandas import *\n",
    "import socket\n",
    "from openpyxl import Workbook, load_workbook\n",
    "import datetime as dt\n",
    "from datetime import date\n"
   ]
  },
  {
   "cell_type": "code",
   "execution_count": 14,
   "metadata": {},
   "outputs": [],
   "source": [
    "os.chdir(r'C:\\Users\\u0766647\\Box\\NIH SINCERE Study\\ServicePoint Data\\Meaningful Contact\\EG')"
   ]
  },
  {
   "cell_type": "code",
   "execution_count": 55,
   "metadata": {},
   "outputs": [],
   "source": [
    "def report_download (token, report_id):\n",
    "    data = {\n",
    "        'token': 'FD34231CD69B4FDE6BF084DD97DD05B2',\n",
    "        'content': 'report',\n",
    "        'format': 'csv',\n",
    "        'report_id': '30562',\n",
    "        'csvDelimiter': '',\n",
    "        'rawOrLabel': 'raw',\n",
    "        'rawOrLabelHeaders': 'raw',\n",
    "        'exportCheckboxLabel': 'false',\n",
    "        'returnFormat': 'json'\n",
    "    }\n",
    "    r = requests.post('https://redcap01.brisc.utah.edu/ccts/redcap/api/',data=data)\n",
    "    redcap = pd.read_csv(StringIO(r.text), sep =\",\")\n",
    "    return(redcap)\n",
    "\n"
   ]
  },
  {
   "cell_type": "code",
   "execution_count": 59,
   "metadata": {},
   "outputs": [
    {
     "name": "stdout",
     "output_type": "stream",
     "text": [
      "This is how many agreed to participate: 278\n"
     ]
    }
   ],
   "source": [
    "df_red = report_download('TOKEN_HERE', '30562')\n",
    "\n",
    "counts_red = df_red['redcap_event_name'].value_counts()\n",
    "\n",
    "participate = (counts_red['baseline_arm_1'])\n",
    "print(\"This is how many agreed to participate: \" + str(participate))\n"
   ]
  },
  {
   "cell_type": "code",
   "execution_count": 15,
   "metadata": {},
   "outputs": [
    {
     "data": {
      "text/plain": [
       "Not Contacted    1200\n",
       "Contacted         486\n",
       "No Change          10\n",
       "Name: Outcome at Follow Up, dtype: int64"
      ]
     },
     "execution_count": 15,
     "metadata": {},
     "output_type": "execute_result"
    }
   ],
   "source": [
    "df_211 = read_csv(\"211.csv\")\n",
    "counts = df_211['Outcome at Follow Up'].value_counts()\n",
    "counts\n"
   ]
  },
  {
   "cell_type": "code",
   "execution_count": 16,
   "metadata": {},
   "outputs": [
    {
     "data": {
      "text/plain": [
       "52"
      ]
     },
     "execution_count": 16,
     "metadata": {},
     "output_type": "execute_result"
    }
   ],
   "source": [
    "df_211['Outcome at Follow Up'].isna().sum()"
   ]
  },
  {
   "cell_type": "code",
   "execution_count": 17,
   "metadata": {},
   "outputs": [
    {
     "name": "stdout",
     "output_type": "stream",
     "text": [
      "This is how many have been contacted by 211: 486\n"
     ]
    }
   ],
   "source": [
    "contacted = (counts['Contacted'])\n",
    "print(\"This is how many have been contacted by 211: \" + str(contacted))\n"
   ]
  },
  {
   "cell_type": "code",
   "execution_count": 18,
   "metadata": {},
   "outputs": [
    {
     "name": "stdout",
     "output_type": "stream",
     "text": [
      "This is how many have not been contacted by 211: 1200\n"
     ]
    }
   ],
   "source": [
    "not_contacted = (counts['Not Contacted'])\n",
    "print(\"This is how many have not been contacted by 211: \" + str(not_contacted))"
   ]
  },
  {
   "cell_type": "code",
   "execution_count": 60,
   "metadata": {},
   "outputs": [
    {
     "name": "stdout",
     "output_type": "stream",
     "text": [
      "This is the number of people that were contacted by 211 but did not want to enroll:  208\n"
     ]
    }
   ],
   "source": [
    "Diff = (contacted)-(participate)\n",
    "\n",
    "print(\"This is the number of people that were contacted by 211 but did not want to enroll: \", str(Diff))\n"
   ]
  },
  {
   "cell_type": "code",
   "execution_count": 24,
   "metadata": {},
   "outputs": [
    {
     "name": "stderr",
     "output_type": "stream",
     "text": [
      "C:\\Users\\u0766647\\AppData\\Local\\Temp\\ipykernel_17340\\1948930465.py:7: FutureWarning: The frame.append method is deprecated and will be removed from pandas in a future version. Use pandas.concat instead.\n",
      "  df_mc =df_mc.append(month_row, ignore_index=True)\n"
     ]
    },
    {
     "data": {
      "text/html": [
       "<div>\n",
       "<style scoped>\n",
       "    .dataframe tbody tr th:only-of-type {\n",
       "        vertical-align: middle;\n",
       "    }\n",
       "\n",
       "    .dataframe tbody tr th {\n",
       "        vertical-align: top;\n",
       "    }\n",
       "\n",
       "    .dataframe thead th {\n",
       "        text-align: right;\n",
       "    }\n",
       "</style>\n",
       "<table border=\"1\" class=\"dataframe\">\n",
       "  <thead>\n",
       "    <tr style=\"text-align: right;\">\n",
       "      <th></th>\n",
       "      <th>Month</th>\n",
       "      <th>Not Contacted</th>\n",
       "      <th>Contacted</th>\n",
       "      <th>Agreed to participate</th>\n",
       "      <th>Did not want to participate</th>\n",
       "    </tr>\n",
       "  </thead>\n",
       "  <tbody>\n",
       "    <tr>\n",
       "      <th>0</th>\n",
       "      <td>November</td>\n",
       "      <td>1200</td>\n",
       "      <td>486</td>\n",
       "      <td>268</td>\n",
       "      <td>218</td>\n",
       "    </tr>\n",
       "  </tbody>\n",
       "</table>\n",
       "</div>"
      ],
      "text/plain": [
       "      Month Not Contacted Contacted Agreed to participate  \\\n",
       "0  November          1200       486                   268   \n",
       "\n",
       "  Did not want to participate  \n",
       "0                         218  "
      ]
     },
     "execution_count": 24,
     "metadata": {},
     "output_type": "execute_result"
    }
   ],
   "source": [
    "df_mc = pd.read_csv(\"MCtemplate.CSV\")\n",
    "\n",
    "current_month = dt.datetime.now()\n",
    "\n",
    "month_row = {'Month': current_month.strftime(\"%B\"), 'Not Contacted': not_contacted, 'Contacted': contacted, 'Agreed to participate': participate, 'Did not want to participate': Diff}\n",
    "\n",
    "df_mc =df_mc.append(month_row, ignore_index=True)\n",
    "\n",
    "df_mc\n",
    "\n",
    "\n"
   ]
  },
  {
   "cell_type": "code",
   "execution_count": 25,
   "metadata": {},
   "outputs": [],
   "source": [
    "df_mc.to_csv(\"MCtemplate.CSV\")"
   ]
  }
 ],
 "metadata": {
  "kernelspec": {
   "display_name": "Python 3.9.13 ('base')",
   "language": "python",
   "name": "python3"
  },
  "language_info": {
   "codemirror_mode": {
    "name": "ipython",
    "version": 3
   },
   "file_extension": ".py",
   "mimetype": "text/x-python",
   "name": "python",
   "nbconvert_exporter": "python",
   "pygments_lexer": "ipython3",
   "version": "3.9.13"
  },
  "orig_nbformat": 4,
  "vscode": {
   "interpreter": {
    "hash": "4a11fa6e2a5777e3e3dc2a6e664e61a448194690f4c6ae0026e74e8933ab77f5"
   }
  }
 },
 "nbformat": 4,
 "nbformat_minor": 2
}
